{
 "cells": [
  {
   "cell_type": "markdown",
   "metadata": {},
   "source": [
    "# Regulární výrazy v Pythonu"
   ]
  },
  {
   "cell_type": "markdown",
   "metadata": {},
   "source": [
    "### modul `re` "
   ]
  },
  {
   "cell_type": "code",
   "execution_count": 1,
   "metadata": {},
   "outputs": [],
   "source": [
    "import re\n",
    "\n",
    "# Vytvoření vzoru\n",
    "regex_rodne_cislo = re.compile(r\"\\d{9,10}\")"
   ]
  },
  {
   "cell_type": "markdown",
   "metadata": {},
   "source": [
    "### funkce `search`, `match`, `fullmatch`"
   ]
  },
  {
   "cell_type": "code",
   "execution_count": 2,
   "metadata": {},
   "outputs": [
    {
     "name": "stdout",
     "output_type": "stream",
     "text": [
      "\n",
      "Search:\n",
      "<re.Match object; span=(20, 30), match='9511121234'>\n",
      "<re.Match object; span=(0, 10), match='9511121234'>\n",
      "<re.Match object; span=(0, 10), match='9511121234'>\n",
      "\n",
      "Match:\n",
      "None\n",
      "<re.Match object; span=(0, 10), match='9511121234'>\n",
      "<re.Match object; span=(0, 10), match='9511121234'>\n",
      "\n",
      "Fullmatch:\n",
      "None\n",
      "<re.Match object; span=(0, 10), match='9511121234'>\n",
      "None\n"
     ]
    }
   ],
   "source": [
    "import re\n",
    "\n",
    "# Příprava regulárního výrazu pro hledání rodných čísel\n",
    "regex_rodne_cislo = re.compile(r\"\\d{9,10}\")\n",
    "\n",
    "# Různé formáty řetězců obsahující rodná čísla\n",
    "# řetězec obsahuje rodné číslo v textu\n",
    "rezetec = \"Moje rodné číslo je 9511121234\"\n",
    "rezetec_presna_shoda = \"9511121234\"  # řetězec je přesně rodné číslo\n",
    "# řetězec začíná rodným číslem\n",
    "retezec_na_zacatku = \"9511121234 je moje rodné číslo.\"\n",
    "\n",
    "# Demonstrace metody search\n",
    "print(\"\\nSearch:\")\n",
    "print(\"Vyhledává první výskyt vzoru kdekoli v řetězci:\")\n",
    "print(regex_rodne_cislo.search(rezetec))  # Najde rodné číslo v textu\n",
    "# Najde rodné číslo, které je celý řetězec\n",
    "print(regex_rodne_cislo.search(rezetec_presna_shoda))\n",
    "# Najde rodné číslo na začátku textu\n",
    "print(regex_rodne_cislo.search(retezec_na_zacatku))\n",
    "\n",
    "# Demonstrace metody match\n",
    "print(\"\\nMatch:\")\n",
    "print(\"Vyhledává vzor pouze na začátku řetězce:\")\n",
    "# Nevrátí nic, protože rodné číslo není na začátku\n",
    "print(regex_rodne_cislo.match(rezetec))\n",
    "# Najde rodné číslo, protože je na začátku\n",
    "print(regex_rodne_cislo.match(rezetec_presna_shoda))\n",
    "# Najde rodné číslo, protože je na začátku\n",
    "print(regex_rodne_cislo.match(retezec_na_zacatku))\n",
    "\n",
    "# Demonstrace metody fullmatch\n",
    "print(\"\\nFullmatch:\")\n",
    "print(\"Vyhledává celý řetězec, který musí přesně odpovídat vzoru:\")\n",
    "# Nevrátí nic, protože celý řetězec není rodné číslo\n",
    "print(regex_rodne_cislo.fullmatch(rezetec))\n",
    "# Vrátí shodu, protože celý řetězec je rodné číslo\n",
    "print(regex_rodne_cislo.fullmatch(rezetec_presna_shoda))\n",
    "# Nevrátí nic, protože celý řetězec není rodné číslo\n",
    "print(regex_rodne_cislo.fullmatch(retezec_na_zacatku))"
   ]
  },
  {
   "cell_type": "markdown",
   "metadata": {},
   "source": [
    "### Podmínky\n",
    "\n",
    "- Pokud podmínce vložíme nějaký smysluplný výraz, vyhodnotí ho jako pravda.\n",
    "- Pokud podmínce vložíme prázdnou hodnotu None, vyhodnotí ji jako nepravda.\n",
    "\n"
   ]
  },
  {
   "cell_type": "code",
   "execution_count": 3,
   "metadata": {},
   "outputs": [
    {
     "name": "stdout",
     "output_type": "stream",
     "text": [
      "Rodné číslo je v pořádku!\n"
     ]
    }
   ],
   "source": [
    "regex_rodne_cislo = re.compile(r\"\\d{9,10}\")\n",
    "\n",
    "rodne_cislo = \"9910011234\"\n",
    "hledani = regex_rodne_cislo.fullmatch(rodne_cislo)\n",
    "\n",
    "if hledani:\n",
    "    print(\"Rodné číslo je v pořádku!\")\n",
    "else:\n",
    "    print(\"Nesprávné rodné číslo!\")"
   ]
  },
  {
   "cell_type": "code",
   "execution_count": 4,
   "metadata": {},
   "outputs": [
    {
     "name": "stdout",
     "output_type": "stream",
     "text": [
      "E-mail je v pořádku!\n"
     ]
    }
   ],
   "source": [
    "# E-maily\n",
    "regex_email = re.compile(r\"\\w+@\\w+\\.cz\")\n",
    "\n",
    "email = \"info@czechitas.cz\"\n",
    "\n",
    "hledani = regex_email.fullmatch(email)\n",
    "if hledani:\n",
    "    print(\"E-mail je v pořádku!\")\n",
    "else:\n",
    "    print(\"Nesprávný e-mail!\")"
   ]
  },
  {
   "cell_type": "markdown",
   "metadata": {},
   "source": [
    "### funkce `findall()`"
   ]
  },
  {
   "cell_type": "code",
   "execution_count": 5,
   "metadata": {},
   "outputs": [
    {
     "name": "stdout",
     "output_type": "stream",
     "text": [
      "['6407156800', '8655057477', '7752126712']\n"
     ]
    }
   ],
   "source": [
    "zapis = \"\"\"\n",
    "Zápisy o provedených vyšetřeních:\n",
    "Pacient 6407156800 trpěl bolestí zad a byl poslán na vyšetření. \n",
    "Pacientka 8655057477 přišla na kontrolu po zranění kotníku.\n",
    "Do ordinace telefonovala pacientka 7752126712, které byl elektronicky vydán recept na Paralen. \n",
    "\"\"\"\n",
    "\n",
    "regex_rodne_cislo = re.compile(r\"\\d{9,10}\")\n",
    "\n",
    "vysledky = regex_rodne_cislo.findall(zapis)\n",
    "print(vysledky)\n",
    "\n",
    "# Poznamka: funkce findall nerozumi seskupovani pomoci kulatych zavorek, resp. vrací právě jen ty skupiny"
   ]
  },
  {
   "cell_type": "markdown",
   "metadata": {},
   "source": [
    "### funkce `sub()`"
   ]
  },
  {
   "cell_type": "code",
   "execution_count": 6,
   "metadata": {},
   "outputs": [
    {
     "name": "stdout",
     "output_type": "stream",
     "text": [
      "\n",
      "Zápisy o provedených vyšetřeních:\n",
      "Pacient X trpěl bolestí zad a byl poslán na vyšetření. \n",
      "Pacientka X přišla na kontrolu po zranění kotníku.\n",
      "Do ordinace telefonovala pacientka X, které byl elektronicky vydán recept na Paralen. \n",
      "\n"
     ]
    }
   ],
   "source": [
    "zapis = \"\"\"\n",
    "Zápisy o provedených vyšetřeních:\n",
    "Pacient 6407156800 trpěl bolestí zad a byl poslán na vyšetření. \n",
    "Pacientka 8655057477 přišla na kontrolu po zranění kotníku.\n",
    "Do ordinace telefonovala pacientka 7752126712, které byl elektronicky vydán recept na Paralen. \n",
    "\"\"\"\n",
    "\n",
    "regex_rodne_cislo = re.compile(r\"\\d{9,10}\")\n",
    "\n",
    "anonymni_zapis = regex_rodne_cislo.sub(\"X\", zapis)\n",
    "print(anonymni_zapis)"
   ]
  }
 ],
 "metadata": {
  "interpreter": {
   "hash": "aee8b7b246df8f9039afb4144a1f6fd8d2ca17a180786b69acc140d282b71a49"
  },
  "kernelspec": {
   "display_name": "Python 3.10.1 64-bit",
   "language": "python",
   "name": "python3"
  },
  "language_info": {
   "codemirror_mode": {
    "name": "ipython",
    "version": 3
   },
   "file_extension": ".py",
   "mimetype": "text/x-python",
   "name": "python",
   "nbconvert_exporter": "python",
   "pygments_lexer": "ipython3",
   "version": "3.12.3"
  },
  "orig_nbformat": 4
 },
 "nbformat": 4,
 "nbformat_minor": 2
}

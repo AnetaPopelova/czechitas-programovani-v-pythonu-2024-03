{
 "cells": [
  {
   "cell_type": "markdown",
   "metadata": {},
   "source": [
    "# Regulární výrazy\n",
    "\n",
    "https://kodim.cz/kurzy/python-data-1/ziskavani-dat/regularni-vyrazy/regularni-vyrazy"
   ]
  },
  {
   "cell_type": "markdown",
   "metadata": {},
   "source": [
    "## Jak fungují regulární výrazy"
   ]
  },
  {
   "cell_type": "markdown",
   "metadata": {},
   "source": [
    "Regulární výraz (zkratky regexp, regex či RE z anglického regular expression) je **textový řetězec**, který slouží jako vzor **pro vyhledávání textu**. "
   ]
  },
  {
   "cell_type": "markdown",
   "metadata": {},
   "source": [
    "Ukážeme si to s tečkou.\n",
    "\n",
    "Tečka zastupuje **právě jeden** libovolný znak. \n",
    "\n",
    "`.es = pes, ves, les...`"
   ]
  },
  {
   "cell_type": "markdown",
   "metadata": {},
   "source": [
    "### Co jsou **metaznaky**?"
   ]
  },
  {
   "cell_type": "markdown",
   "metadata": {},
   "source": [
    "Metaznaky mají v regulárních výrazech zvláštní význam - mohou **zastoupit nějaký znak** (nebo více znaků). \n",
    "\n",
    "\n",
    "\n",
    "Mezi metaznaky patří:\n",
    "\n",
    " `\\` `^` `$` `.` `[` `]` `|` `(` `)` `?` `*` `+`  `{` `}`"
   ]
  },
  {
   "cell_type": "markdown",
   "metadata": {},
   "source": [
    "Pokud chceme takové znaky používat v regulárním výrazu jako obyčejné (bez jejich zvláštního významu), je třeba je tzv. escapovat --> doplnit zpětným lomitkem. \n",
    "\n",
    "Například: `.` vs `\\.`"
   ]
  },
  {
   "cell_type": "markdown",
   "metadata": {},
   "source": [
    "`.es = pes, ves, les...`\n",
    "\n",
    "`\\.es = .es`"
   ]
  },
  {
   "cell_type": "markdown",
   "metadata": {},
   "source": [
    "Pojďme si to zkusit v online nástroji  https://regex101.com."
   ]
  },
  {
   "cell_type": "code",
   "execution_count": null,
   "metadata": {},
   "outputs": [],
   "source": [
    "'''\n",
    "Vítejte ve Směnárně Na Růžku!\n",
    "Kurzy měn pro 19. 12. 2020 jsou:\n",
    "\n",
    "1 €   = 26.35 Kč\n",
    "1 $   = 21.76 Kč\n",
    "1 £   = 28.78 Kč\n",
    "1 DKK = 3.54 Kč\n",
    "\n",
    "Neúčtujeme žádné poplatky.\n",
    "'''"
   ]
  },
  {
   "cell_type": "markdown",
   "metadata": {},
   "source": [
    "### Libovolný znak"
   ]
  },
  {
   "cell_type": "markdown",
   "metadata": {},
   "source": [
    "\n",
    "Zápis | Význam\n",
    "---------|----------\n",
    " . | libovolný znak \n",
    " [ ] | jeden z uvedených znaků\n",
    " [^ ] | jeden z neuvedených znaků"
   ]
  },
  {
   "cell_type": "code",
   "execution_count": null,
   "metadata": {},
   "outputs": [],
   "source": [
    "## Najdi řádek, kde je kurz eura.\n",
    "€\n",
    "\n",
    "## Označ i jedničku před znakem měny.\n",
    "1 €\n"
   ]
  },
  {
   "cell_type": "code",
   "execution_count": null,
   "metadata": {},
   "outputs": [],
   "source": [
    "## řádky, které mají v sobě znak dolaru NEBO eura\n",
    "1 [€$]"
   ]
  },
  {
   "cell_type": "markdown",
   "metadata": {},
   "source": [
    "\n",
    "Zápis | Význam\n",
    "---------|----------\n",
    " [1-5] | libovolný znak z rozsahu 1, 2, 3, 4, 5\n",
    " [A-Z ] | všechna velká písmena\n",
    " [a-z ] | všechna malá písmena\n",
    " [a-c ] | všechna malá písmena z rozsahu a, b, c\n",
    "\n"
   ]
  },
  {
   "cell_type": "markdown",
   "metadata": {},
   "source": [
    "### Počet opakování"
   ]
  },
  {
   "cell_type": "markdown",
   "metadata": {},
   "source": [
    "Kvantifikátor | Počet opakování\n",
    "--------------|----------------\n",
    "? | minimálně 0krát, maximálně 1krát\n",
    "\\* | minimálně 0krát (maximálně neomezeno)\n",
    "\\+ | minimálně 1krát (maximálně neomezeno)\n",
    "{n} | právě nkrát\n",
    "{m,n} | minimálně mkrát, maximálně nkrát\n",
    "{m,} | minimálně mkrát (maximálně neomezeno)"
   ]
  },
  {
   "cell_type": "code",
   "execution_count": null,
   "metadata": {},
   "outputs": [],
   "source": [
    "# označ celou část našeho řádku s kurzem měn před symbolem =\n",
    "# před = jsou tři mezery\n",
    "\n",
    "1 [€$] {3}\n",
    "\n",
    "# nebo\n",
    "\n",
    "1 [€$] +"
   ]
  },
  {
   "cell_type": "code",
   "execution_count": null,
   "metadata": {},
   "outputs": [],
   "source": [
    "## Morseova abeceda\n",
    "\n",
    ".--- .- -.-. .... -.-. .. -.. --- -- ..- -.-.-- ... --- ... -.-.-- -. ..- -.. .. -- ... . -.-.--\n",
    "\n",
    "## Najdi SOS\n",
    "# ... --- ...\n",
    "\n",
    "\\.{3} -{3} \\.{3}"
   ]
  },
  {
   "cell_type": "markdown",
   "metadata": {},
   "source": [
    "Platí, že regulární výrazy jsou **žravé** (nenasytné), tedy zaberou vždy maximální možný počet znaků.\n",
    "\n",
    "Existují tzv. **líné** kvantifikátory (co možná nejmenší počet znaků). \n",
    "\n",
    "Ty se od výše zmíněných (tzv. nenasytných) liší v zápisu tak, že výše uvedený kvantifikátor zprava doplníme o otazník (?). \n",
    "\n",
    "Líné kvantifikátory tedy budou `??`, `*?`, `+?`, `{m,n}?`, `{m,}?`."
   ]
  },
  {
   "cell_type": "markdown",
   "metadata": {},
   "source": [
    "### Předdefinované skupiny znaků"
   ]
  },
  {
   "cell_type": "markdown",
   "metadata": {},
   "source": [
    "Zápis | Význam\n",
    "------- | -------\n",
    "\\d | číslice 0-9\n",
    "\\D | jakýkoliv znak kromě číslic 0-9\n",
    "\\w | znaky „slova” (ekvivalentní zápisu [a-zA-Z0-9_])\n",
    "\\W | jakýkoliv znak kromě znaků „slova” (ekvivalentní zápisu [^a-zA-Z0-9_])\n",
    "\\s | „bílé” znaky (mezera, tabulátor, znaky pro zalomení řádků)\n",
    "\\S | jakýkoliv znak kromě „bílých” znaků\n",
    "\n",
    "\n"
   ]
  },
  {
   "cell_type": "markdown",
   "metadata": {},
   "source": [
    "Note:\n",
    "\n",
    "_[0-9] is not always equivalent to \\d. In python3, [0-9] matches only 0123456789 characters, while \\d matches [0-9] and other digit characters, for example Eastern Arabic numerals ٠١٢٣٤٥٦٧٨٩._"
   ]
  },
  {
   "cell_type": "code",
   "execution_count": null,
   "metadata": {},
   "outputs": [],
   "source": [
    "## Pojďme si to vyzkoušet\n",
    "\n",
    "## Co zvádnou předdefinované skupiny najít v tomto textu?\n",
    "\n",
    "'''\n",
    "hadi_notace_ma_podtrzitka\n",
    "9A55423\n",
    "9A5 5423\n",
    "+420 735 123 456\n",
    "Václavské nám. 837/11, 110 00 Nové Město\n",
    "19. prosince 2020\n",
    "frantisek.novak@ocelove-mesto.cz\n",
    "80-902734-1-6\n",
    "'''"
   ]
  },
  {
   "cell_type": "code",
   "execution_count": null,
   "metadata": {},
   "outputs": [],
   "source": [
    "## Příklady\n",
    "\n",
    "## Nepovinný znak\n",
    "# BE colour vs AE color\n",
    "colou?r\n",
    "\n",
    "## Výběr ze znaků\n",
    "# license vs licence\n",
    "licen[sc]e\n",
    "\n",
    "## Nepovinné mezery\n",
    "##  19. 12. 2020 vs 19.12.2020\n",
    "\\d{1,2}\\. ?\\d{1,2}\\. ?\\d{4}\n",
    "\n",
    "# Označení několika slov\n",
    "# Václavské náměstí 11, 110 00 Nové Město\n",
    "\n",
    "[\\w ]* \n",
    "#pozn. \\w nezahrnuje mezery\n",
    "\n",
    "## Celý řádek s kurzem dolaru nebo eura\n",
    "\n",
    "1 [€$] += +\\d+.\\d+ Kč\n",
    "\n",
    "\n",
    "## Číslo bankovního účtu\n",
    "# Číslo bankovního účtu má v Česku tvar:\n",
    "# - předčíslí (nepovinné, 0 až 6 číslic), zakončené je pomlčkou,\n",
    "# - číslo účtu (max. 10 číslic),\n",
    "# - lomítko,\n",
    "# - kód banky (právě 4 číslice).\n",
    "\n",
    "\\d{6,10}/\\d{4} \n",
    "# Pokud bychom neuvažovali předčíslí"
   ]
  },
  {
   "cell_type": "markdown",
   "metadata": {},
   "source": [
    "### Začátek a konec"
   ]
  },
  {
   "cell_type": "markdown",
   "metadata": {},
   "source": [
    "Znak | Význam\n",
    "------- | -------\n",
    "^ | začátek řetězce (textu v němž se vyhledává)\n",
    "$ | konec řetězce (textu v němž se vyhledává)"
   ]
  },
  {
   "cell_type": "markdown",
   "metadata": {},
   "source": [
    "###  Může se hodit"
   ]
  },
  {
   "cell_type": "markdown",
   "metadata": {},
   "source": [
    "Znak | Význam\n",
    "------- | -------\n",
    "\\| | nebo --> sobota\\|neděle\n",
    "\\(\\)| opakování určité sekvence znaků\n"
   ]
  },
  {
   "cell_type": "markdown",
   "metadata": {},
   "source": [
    "<br>\n",
    "<br>"
   ]
  }
 ],
 "metadata": {
  "interpreter": {
   "hash": "aee8b7b246df8f9039afb4144a1f6fd8d2ca17a180786b69acc140d282b71a49"
  },
  "kernelspec": {
   "display_name": "Python 3.10.1 64-bit",
   "language": "python",
   "name": "python3"
  },
  "language_info": {
   "codemirror_mode": {
    "name": "ipython",
    "version": 3
   },
   "file_extension": ".py",
   "mimetype": "text/x-python",
   "name": "python",
   "nbconvert_exporter": "python",
   "pygments_lexer": "ipython3",
   "version": "3.10.1"
  },
  "orig_nbformat": 4
 },
 "nbformat": 4,
 "nbformat_minor": 2
}

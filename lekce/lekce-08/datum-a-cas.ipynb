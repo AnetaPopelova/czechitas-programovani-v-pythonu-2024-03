{
 "cells": [
  {
   "cell_type": "markdown",
   "metadata": {},
   "source": [
    "# Datum a čas\n",
    "\n",
    "<https://kodim.cz/kurzy/python-data-1/bonusy/datum/datum>\n"
   ]
  },
  {
   "cell_type": "markdown",
   "metadata": {},
   "source": [
    "> 📖 **_Češtinářská vsuvka_**\n",
    "> \n",
    "> _Slovo datum se skloňuje podle vzoru město_ --> **data (o datech), nikoli datumy (o datumech)**\n",
    "> \n",
    "> _Tato zásada platí bez ohledu na to, zda se jedná o kalendářní data, nebo o data počítačová._"
   ]
  },
  {
   "cell_type": "markdown",
   "metadata": {},
   "source": [
    "## [1] Modul **datetime**"
   ]
  },
  {
   "cell_type": "markdown",
   "metadata": {},
   "source": [
    "Modul `datetime` není třeba instalovat, je základní součástí Pythonu.\n",
    "\n",
    "Tip: help('modules') zobrazí všechny moje dostupné moduly\n"
   ]
  },
  {
   "cell_type": "markdown",
   "metadata": {},
   "source": [
    "Stačí provést import."
   ]
  },
  {
   "cell_type": "code",
   "execution_count": null,
   "metadata": {},
   "outputs": [],
   "source": [
    "import datetime # as dt"
   ]
  },
  {
   "cell_type": "markdown",
   "metadata": {},
   "source": [
    "V modulu `datetime` najdeme:\n",
    "\n",
    "* datetime.`date` | rok, měsíc, den\n",
    "* datetime.`time` | hodina, minuta, sekunda, mikrosekunda + tzinfo\n",
    "* datetime.`datetime` | datum + čas\n",
    "* datetime.`timedelta` | rozdíl (interval) mezi daty\n",
    "* datetime.`tzinfo` | časové pásmo\n",
    "* datetime.`timezone` | UTC"
   ]
  },
  {
   "cell_type": "code",
   "execution_count": null,
   "metadata": {},
   "outputs": [],
   "source": [
    "from datetime import datetime, timedelta, date"
   ]
  },
  {
   "cell_type": "code",
   "execution_count": null,
   "metadata": {},
   "outputs": [],
   "source": [
    "# Záludnosti importu\n",
    "\n",
    "## importuji cely modul\n",
    "import datetime\n",
    "datetime.datetime.now()\n",
    "\n",
    "## importuji cely modul pod aliasem \"dt\"\n",
    "import datetime as dt\n",
    "dt.datetime.now()\n",
    "\n",
    "## importuji cast datetime z modulu datetime\n",
    "from datetime import datetime\n",
    "datetime.now()\n",
    "\n",
    "## importuji cast timedelta z modulu datetime\n",
    "from datetime import timedelta\n",
    "timedelta(days=1)\n"
   ]
  },
  {
   "cell_type": "markdown",
   "metadata": {},
   "source": [
    "📖 **_Časové standardy_**\n",
    "\n",
    "_Rozlišujeme tzv. naivní (bez časové zóny) a informované časové údaje (naive vs aware)._\n",
    "\n",
    "- _UTC Coordinated Universal Time_\n",
    "- _CET Central European Time = UTC + 1h_\n",
    "- _SEČ/SELČ_\n",
    "- _GMT Greenwich Mean Time (časové pásmo) = UTC_\n",
    "\n"
   ]
  },
  {
   "cell_type": "markdown",
   "metadata": {},
   "source": [
    "---"
   ]
  },
  {
   "cell_type": "markdown",
   "metadata": {},
   "source": [
    "## [2] Vytvoření data"
   ]
  },
  {
   "cell_type": "markdown",
   "metadata": {},
   "source": [
    "**Aktuální datum a čas**\n",
    "\n",
    "metoda `now()`"
   ]
  },
  {
   "cell_type": "code",
   "execution_count": null,
   "metadata": {},
   "outputs": [],
   "source": [
    "# lokalní čas\n",
    "datetime.now()\n",
    "\n",
    "# datetime.now(timezone.utc).astimezone() ## informovaný časový údaj\n"
   ]
  },
  {
   "cell_type": "markdown",
   "metadata": {},
   "source": [
    "metoda `today()`"
   ]
  },
  {
   "cell_type": "code",
   "execution_count": null,
   "metadata": {},
   "outputs": [],
   "source": [
    "datetime.today()\n",
    "\n",
    "# Popřípadě:\n",
    "# from datetime import date\n",
    "# date.today()"
   ]
  },
  {
   "cell_type": "markdown",
   "metadata": {},
   "source": [
    "**Datum na přání**\n",
    "\n",
    "funkce `datetime(rok, mesic, den, hodina, minuta, sekunda)`"
   ]
  },
  {
   "cell_type": "code",
   "execution_count": null,
   "metadata": {},
   "outputs": [],
   "source": [
    "# 🚀 Apollo 11 startovalo 16. července 1969, dvě minuty po půl třetí odpoledne\n",
    "\n",
    "apollo_start = datetime(1969, 7, 16, 14, 32)"
   ]
  },
  {
   "cell_type": "code",
   "execution_count": null,
   "metadata": {},
   "outputs": [],
   "source": [
    "## Zkusíme pomocí funkce datetime uložit do proměnné dnešní datum\n",
    "\n",
    "dnes = \"\""
   ]
  },
  {
   "cell_type": "markdown",
   "metadata": {},
   "source": [
    "**Den v týdnu**\n",
    "\n",
    "funkce `weekday()`\n",
    "\n",
    "funkce `isoweekday()`\n"
   ]
  },
  {
   "cell_type": "code",
   "execution_count": null,
   "metadata": {},
   "outputs": [],
   "source": [
    "# 0 - 6\n",
    "apollo_start.weekday()"
   ]
  },
  {
   "cell_type": "code",
   "execution_count": null,
   "metadata": {},
   "outputs": [],
   "source": [
    "# 1 - 7\n",
    "apollo_start.isoweekday() "
   ]
  },
  {
   "cell_type": "code",
   "execution_count": null,
   "metadata": {},
   "outputs": [],
   "source": [
    "# Vypiš svoje datum narození"
   ]
  },
  {
   "cell_type": "code",
   "execution_count": null,
   "metadata": {},
   "outputs": [],
   "source": [
    "# Jaký to byl den v tydnu?"
   ]
  },
  {
   "cell_type": "markdown",
   "metadata": {},
   "source": [
    "---"
   ]
  },
  {
   "cell_type": "markdown",
   "metadata": {},
   "source": [
    "## [3] Formátování"
   ]
  },
  {
   "cell_type": "markdown",
   "metadata": {},
   "source": [
    "Existují standardizované formáty dat. Norem existuje celá řada.\n",
    "\n",
    "Pokud nedefinujeme jinak, dostaneme tzv. ISO formát v podobě `YYYY-MM-DD HH:MM:SS`."
   ]
  },
  {
   "cell_type": "code",
   "execution_count": 19,
   "metadata": {},
   "outputs": [
    {
     "name": "stdout",
     "output_type": "stream",
     "text": [
      "1969-07-16 14:32:00\n"
     ]
    }
   ],
   "source": [
    "print(apollo_start)"
   ]
  },
  {
   "cell_type": "markdown",
   "metadata": {},
   "source": [
    "### funkce `isoformat()`"
   ]
  },
  {
   "cell_type": "code",
   "execution_count": 20,
   "metadata": {},
   "outputs": [
    {
     "data": {
      "text/plain": [
       "'1969-07-16T14:32:00'"
      ]
     },
     "execution_count": 20,
     "metadata": {},
     "output_type": "execute_result"
    }
   ],
   "source": [
    "apollo_start.isoformat() # T"
   ]
  },
  {
   "cell_type": "markdown",
   "metadata": {},
   "source": [
    "### funkce `strftime()` \n",
    "\n",
    "Z data můžeme pomocí direktiv vyrobit řetezec a vybrat si jen některé hodnoty.\n",
    "\n",
    "Může se mi například hodit jen rok startu Apolla. "
   ]
  },
  {
   "cell_type": "code",
   "execution_count": 21,
   "metadata": {},
   "outputs": [
    {
     "data": {
      "text/plain": [
       "'1969'"
      ]
     },
     "execution_count": 21,
     "metadata": {},
     "output_type": "execute_result"
    }
   ],
   "source": [
    "# Vyber z data pouze rok\n",
    "apollo_start.strftime(\"%Y\")"
   ]
  },
  {
   "cell_type": "markdown",
   "metadata": {},
   "source": [
    "| Direktiva | Význam |   \n",
    "|---|---|\n",
    "| %d | den |  \n",
    "| %m | měsíc |\n",
    "| %Y | rok (nezkrácený) | \n",
    "| %H | hodina (rozsah 0-23) |  \n",
    "| %M  | minuta |  \n",
    "| %S  | sekunda |   \n",
    "\n",
    "\n",
    "https://docs.python.org/3/library/datetime.html#strftime-and-strptime-format-codes\n"
   ]
  },
  {
   "cell_type": "code",
   "execution_count": null,
   "metadata": {},
   "outputs": [],
   "source": [
    "apollo_start.strftime(\"%d. %m. %Y, %H:%M\")"
   ]
  },
  {
   "cell_type": "code",
   "execution_count": null,
   "metadata": {},
   "outputs": [],
   "source": [
    "# Vypiš čas svého narození na sekudu přesně.\n",
    "# Použij %I a %p pro 12hodinový formát (am / pm)\n"
   ]
  },
  {
   "cell_type": "code",
   "execution_count": null,
   "metadata": {},
   "outputs": [],
   "source": [
    "# Vypiš, v který den startovalo Apollo 11\n",
    "# Pro den v týdnu použij %A\n"
   ]
  },
  {
   "cell_type": "code",
   "execution_count": null,
   "metadata": {},
   "outputs": [],
   "source": [
    "## Chcete jméno dne v týdnu česky?\n",
    "\n",
    "import locale\n",
    "locale.setlocale(locale.LC_TIME, 'cs_CZ.UTF-8') # iOS\n",
    "# locale.setlocale(locale.LC_TIME, 'cz.UTF-8') # Windows?"
   ]
  },
  {
   "cell_type": "markdown",
   "metadata": {},
   "source": [
    "---"
   ]
  },
  {
   "cell_type": "markdown",
   "metadata": {},
   "source": [
    "## [4] Čtení data z výstupu\n",
    "\n",
    "Bohužel data často získáváme jako řetězce (např. z CSV souborů, ze vstupů od uživatele atd.). \n",
    "\n",
    "Abychom s ním mohli pracovat, musíme si ho převést na typ `datetime`."
   ]
  },
  {
   "cell_type": "markdown",
   "metadata": {},
   "source": [
    "### funkce `fromisoformat()`"
   ]
  },
  {
   "cell_type": "code",
   "execution_count": null,
   "metadata": {},
   "outputs": [],
   "source": [
    "retezec_iso = \"1969-07-21T18:54:00\"\n",
    "\n",
    "apollo_start = datetime.fromisoformat(retezec_iso)"
   ]
  },
  {
   "cell_type": "markdown",
   "metadata": {},
   "source": [
    "### funkce `strptime()`  \n",
    "\n",
    "Funkci zadáme pomocí direktiv vzor zápisu data a času, který chceme přetvořit na typ `datetime`. "
   ]
  },
  {
   "cell_type": "code",
   "execution_count": null,
   "metadata": {},
   "outputs": [],
   "source": [
    "retezec = \"21. 7. 1969, 18:54\""
   ]
  },
  {
   "cell_type": "code",
   "execution_count": null,
   "metadata": {},
   "outputs": [],
   "source": [
    "# Řešení\n",
    "apollo_pristani = datetime.strptime(retezec, \"%d. %m. %Y, %H:%M\")"
   ]
  },
  {
   "cell_type": "markdown",
   "metadata": {},
   "source": [
    "## [5] Počítání s daty\n",
    "\n",
    "V pythonu můžeme s číslem provádět aritmetické operace nebo porovnání. "
   ]
  },
  {
   "cell_type": "markdown",
   "metadata": {},
   "source": [
    "### funkce `timedelta()`  \n"
   ]
  },
  {
   "cell_type": "code",
   "execution_count": null,
   "metadata": {},
   "outputs": [],
   "source": [
    "# Vypočítej délku mise Apolla 11\n",
    "delka_mise = apollo_pristani - apollo_start"
   ]
  },
  {
   "cell_type": "code",
   "execution_count": null,
   "metadata": {},
   "outputs": [],
   "source": [
    "## Vypočítej včerejší datum\n",
    "dnes = datetime.today()\n",
    "vcera = dnes - timedelta(days=1)\n",
    "vcera = vcera.strftime(\"%Y-%m-%d\")"
   ]
  },
  {
   "cell_type": "code",
   "execution_count": 27,
   "metadata": {},
   "outputs": [
    {
     "data": {
      "text/plain": [
       "datetime.timedelta(days=12416, seconds=75769, microseconds=609083)"
      ]
     },
     "execution_count": 27,
     "metadata": {},
     "output_type": "execute_result"
    }
   ],
   "source": [
    "# Vypočítej, kolik dní jsi na zemi\n",
    "\n",
    "datum_narozeni = datetime(1988, 10, 18)\n",
    "pocet_dni_na_zemi = datetime.today() - datum_narozeni"
   ]
  },
  {
   "cell_type": "code",
   "execution_count": 24,
   "metadata": {},
   "outputs": [
    {
     "name": "stdout",
     "output_type": "stream",
     "text": [
      "61 days, 23:03:04.200002\n",
      "5353384.200002\n"
     ]
    }
   ],
   "source": [
    "hodnota_timedelta = timedelta(days=40, \n",
    "        seconds=3, \n",
    "        microseconds=2, \n",
    "        milliseconds=1200, \n",
    "        minutes=3, \n",
    "        hours=23, \n",
    "        weeks=3)\n",
    " \n",
    "# Po přepočítání dostaneme vysledek:\n",
    "# 61 days, 23:03:04.200002\n",
    "\n",
    "# Alternativní zápis stejné hodnoty\n",
    "# datetime.timedelta(days=61, seconds=82984, microseconds=200002)\n",
    "\n",
    "# Převod na sekundy\n",
    "# hodnota_timedelta.total_'seconds()\n",
    "\n",
    "'''\n",
    "Jak probíhá přepočet?\n",
    "\n",
    "Only days, seconds, and microseconds remain.\n",
    "Only days, seconds and microseconds are stored internally. Arguments are converted to those units:\n",
    "\n",
    "A millisecond is converted to 1000 microseconds.\n",
    "A minute is converted to 60 seconds.\n",
    "An hour is converted to 3600 seconds.\n",
    "A week is converted to 7 days.\n",
    "'''\n"
   ]
  },
  {
   "cell_type": "markdown",
   "metadata": {},
   "source": [
    "# BONUSOVÁ TÉMATA"
   ]
  },
  {
   "cell_type": "markdown",
   "metadata": {},
   "source": [
    "Kromě datetime máme pro práci s datumy k disopozici další balíčky, např. `calendar` a `time`"
   ]
  },
  {
   "cell_type": "code",
   "execution_count": null,
   "metadata": {},
   "outputs": [],
   "source": [
    "# Přestupné roky\n",
    "\n",
    "import calendar\n",
    "print(calendar.isleap(2020))\n",
    "\n",
    "# def is_leap_year(year):\n",
    "#     \"\"\"Determine whether a year is a leap year.\"\"\"\n",
    "    \n",
    "#     return year % 4 == 0 and (year % 100 != 0 or year % 400 == 0)\n",
    "\n",
    "# print(is_leap_year(2020))"
   ]
  },
  {
   "cell_type": "code",
   "execution_count": null,
   "metadata": {},
   "outputs": [],
   "source": [
    "# Přestupné sekundy\n",
    "\n",
    "# Země zpomaluje a náš čas ji tak předbíhá, tak je potreba to občas srovnat\n",
    "# 23:59:60\n",
    "\n",
    "t = \"2016-06-30T23:59:60\"\n",
    "\n",
    "## Vrati error\n",
    "datetime.strptime(t, \"%Y-%m-%dT%H:%M:%S\")\n",
    "\n",
    "## Modul time si poradí\n",
    "import time\n",
    "time.mktime(time.strptime(t, \"%Y-%m-%dT%H:%M:%S\"))"
   ]
  },
  {
   "cell_type": "markdown",
   "metadata": {},
   "source": [
    "### Problém roku 2038\n",
    "\n",
    "Problém roku 2038 (jinak známý jako `„Y2K38“` podle přirovnání k problému Y2K) může hypoteticky způsobit pád počítačových programů v roce 2038. \n",
    " \n",
    "\n",
    "**Unix**\n",
    "\n",
    "Unixový čas počítá počet časovým okamžiků od půlnoci 1. ledna 1970. Zápisuje se např. `1665944211.22013`. \n",
    "\n",
    "Ukládá se často jako `32bitové celé číslo se znaménkem`. \n",
    "\n",
    "Poslední čas, který takto může být zapsán, je `úterý 19. ledna 2038 v 03:14:07`. \n",
    "\n",
    "\n",
    "**A co potom?**\n",
    "\n",
    "Čas v další sekundě „přeteče“ a bude vnitřně reprezentován jako záporné číslo, což může způsobit pád programů. \n",
    "\n",
    "Neuvidí takovéto datum jako `2038`, ale spíše jako `1901`.\n",
    "\n",
    "\n",
    "Více se dočtete třeba na Wikipedii:\n",
    " https://cs.wikipedia.org/wiki/Probl%C3%A9m_roku_2038\n"
   ]
  },
  {
   "cell_type": "code",
   "execution_count": 1,
   "metadata": {},
   "outputs": [
    {
     "data": {
      "text/plain": [
       "1666983909.309453"
      ]
     },
     "execution_count": 1,
     "metadata": {},
     "output_type": "execute_result"
    }
   ],
   "source": [
    "## aktuální čas jako unix timestamp\n",
    "import time\n",
    "\n",
    "time.time()"
   ]
  }
 ],
 "metadata": {
  "interpreter": {
   "hash": "aee8b7b246df8f9039afb4144a1f6fd8d2ca17a180786b69acc140d282b71a49"
  },
  "kernelspec": {
   "display_name": "Python 3.10.1 64-bit",
   "language": "python",
   "name": "python3"
  },
  "language_info": {
   "codemirror_mode": {
    "name": "ipython",
    "version": 3
   },
   "file_extension": ".py",
   "mimetype": "text/x-python",
   "name": "python",
   "nbconvert_exporter": "python",
   "pygments_lexer": "ipython3",
   "version": "3.10.1"
  },
  "orig_nbformat": 4
 },
 "nbformat": 4,
 "nbformat_minor": 2
}
